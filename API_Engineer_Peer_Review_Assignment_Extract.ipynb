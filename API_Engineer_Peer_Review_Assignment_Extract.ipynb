{
 "cells": [
  {
   "cell_type": "markdown",
   "metadata": {},
   "source": [
    "<center>\n",
    "    <img src=\"https://gitlab.com/ibm/skills-network/courses/placeholder101/-/raw/master/labs/module%201/images/IDSNlogo.png\" width=\"300\" alt=\"cognitiveclass.ai logo\"  />\n",
    "</center>\n"
   ]
  },
  {
   "cell_type": "markdown",
   "metadata": {},
   "source": [
    "# Peer Review Assignment - Data Engineer - Extract API Data\n"
   ]
  },
  {
   "cell_type": "markdown",
   "metadata": {},
   "source": [
    "Estimated time needed: **20** minutes\n"
   ]
  },
  {
   "cell_type": "markdown",
   "metadata": {},
   "source": [
    "## Objectives\n",
    "\n",
    "In this part you will:\n",
    "\n",
    "*   Collect exchange rate data using an API\n",
    "*   Store the data as a CSV\n"
   ]
  },
  {
   "cell_type": "markdown",
   "metadata": {},
   "source": [
    "For this lab, we are going to be using Python and several Python libraries. Some of these libraries might be installed in your lab environment or in SN Labs. Others may need to be installed by you. The cells below will install these libraries when executed.\n"
   ]
  },
  {
   "cell_type": "code",
   "execution_count": 2,
   "metadata": {},
   "outputs": [
    {
     "name": "stdout",
     "output_type": "stream",
     "text": [
      "Requirement already satisfied: pandas in /home/jupyterlab/conda/envs/python/lib/python3.7/site-packages (1.3.4)\n",
      "Requirement already satisfied: python-dateutil>=2.7.3 in /home/jupyterlab/conda/envs/python/lib/python3.7/site-packages (from pandas) (2.8.2)\n",
      "Requirement already satisfied: pytz>=2017.3 in /home/jupyterlab/conda/envs/python/lib/python3.7/site-packages (from pandas) (2021.3)\n",
      "Requirement already satisfied: numpy>=1.17.3 in /home/jupyterlab/conda/envs/python/lib/python3.7/site-packages (from pandas) (1.21.4)\n",
      "Requirement already satisfied: six>=1.5 in /home/jupyterlab/conda/envs/python/lib/python3.7/site-packages (from python-dateutil>=2.7.3->pandas) (1.16.0)\n",
      "Requirement already satisfied: requests in /home/jupyterlab/conda/envs/python/lib/python3.7/site-packages (2.26.0)\n",
      "Requirement already satisfied: certifi>=2017.4.17 in /home/jupyterlab/conda/envs/python/lib/python3.7/site-packages (from requests) (2021.10.8)\n",
      "Requirement already satisfied: urllib3<1.27,>=1.21.1 in /home/jupyterlab/conda/envs/python/lib/python3.7/site-packages (from requests) (1.26.7)\n",
      "Requirement already satisfied: idna<4,>=2.5 in /home/jupyterlab/conda/envs/python/lib/python3.7/site-packages (from requests) (3.1)\n",
      "Requirement already satisfied: charset-normalizer~=2.0.0 in /home/jupyterlab/conda/envs/python/lib/python3.7/site-packages (from requests) (2.0.8)\n"
     ]
    }
   ],
   "source": [
    "!pip install pandas\n",
    "!pip install requests"
   ]
  },
  {
   "cell_type": "markdown",
   "metadata": {},
   "source": [
    "## Imports\n",
    "\n",
    "Import any additional libraries you may need here.\n"
   ]
  },
  {
   "cell_type": "code",
   "execution_count": 13,
   "metadata": {},
   "outputs": [],
   "source": [
    "import requests\n",
    "import pandas as pd\n",
    "import json"
   ]
  },
  {
   "cell_type": "markdown",
   "metadata": {},
   "source": [
    "## Extract Data Using an API\n"
   ]
  },
  {
   "cell_type": "markdown",
   "metadata": {},
   "source": [
    "Using ExchangeRate-API we will extract currency exchange rate data. Use the below steps to get the access key and to get the data.\n",
    "\n",
    "1.  Open the url : [https://exchangeratesapi.io/](https://exchangeratesapi.io/?utm_medium=Exinfluencer&utm_source=Exinfluencer&utm_content=000026UJ&utm_term=10006555&utm_id=NA-SkillsNetwork-Channel-SkillsNetworkCoursesIBMDeveloperSkillsNetworkPY0221ENSkillsNetwork23455645-2021-01-01) and create a free account.\n",
    "2.  Once the account is created. You will get the Get the Free API key option on the top as shown below:\n",
    "\n",
    "<img src=\"https://cf-courses-data.s3.us.cloud-object-storage.appdomain.cloud/IBMDeveloperSkillsNetwork-PY0221EN-SkillsNetwork/labs/module%206/Final%20Assignment/Images/getapi.png\"/>\n",
    "\n",
    "3.  Copy the API key and use in the url in Question 1.\n"
   ]
  },
  {
   "cell_type": "markdown",
   "metadata": {},
   "source": [
    "### Call the API\n",
    "\n",
    "<b> Question 1</b> Using the `requests` library call the endpoint given above and save the text, remember the first few characters of the output:\n"
   ]
  },
  {
   "cell_type": "code",
   "execution_count": 12,
   "metadata": {},
   "outputs": [
    {
     "name": "stdout",
     "output_type": "stream",
     "text": [
      "{\"success\":true,\"timestamp\":1639367954,\"base\":\"EUR\",\"date\":\"2021-12-13\",\"rates\":{\"AED\":4.149906,\"AFN\":116.659214,\"ALL\":120.966065,\"AMD\":557.956752,\"ANG\":2.029011,\"AOA\":642.046983,\"ARS\":114.402472,\"AUD\":1.575306,\"AWG\":2.033657,\"AZN\":1.917479,\"BAM\":1.954549,\"BBD\":2.27373,\"BDT\":96.57232,\"BGN\":1.953412,\"BHD\":0.424447,\"BIF\":2244.388157,\"BMD\":1.129809,\"BND\":1.53816,\"BOB\":7.775338,\"BRL\":6.34051,\"BSD\":1.126122,\"BTC\":2.307082e-5,\"BTN\":85.333345,\"BWP\":13.255898,\"BYN\":2.852982,\"BYR\":22144.26537,\"BZD\":2.269833,\"CAD\":1.436609,\"CDF\":2260.184661,\"CHF\":1.041459,\"CLF\":0.03476,\"CLP\":959.141062,\"CNY\":7.188301,\"COP\":4394.936194,\"CRC\":718.801613,\"CUC\":1.129809,\"CUP\":29.939951,\"CVE\":110.192286,\"CZK\":25.347615,\"DJF\":200.469247,\"DKK\":7.43601,\"DOP\":63.958756,\"DZD\":157.126196,\"EGP\":17.700965,\"ERN\":16.947317,\"ETB\":54.812869,\"EUR\":1,\"FJD\":2.406437,\"FKP\":0.852733,\"GBP\":0.852622,\"GEL\":3.493427,\"GGP\":0.852733,\"GHS\":6.863232,\"GIP\":0.852733,\"GMD\":59.258281,\"GNF\":10698.554216,\"GTQ\":8.704333,\"GYD\":235.586711,\"HKD\":8.80991,\"HNL\":27.324253,\"HRK\":7.519541,\"HTG\":113.513119,\"HUF\":365.651636,\"IDR\":16210.605262,\"ILS\":3.503556,\"IMP\":0.852733,\"INR\":85.547528,\"IQD\":1645.225213,\"IRR\":47762.69526,\"ISK\":147.621354,\"JEP\":0.852733,\"JMD\":173.99816,\"JOD\":0.801038,\"JPY\":128.299465,\"KES\":127.137935,\"KGS\":95.796885,\"KHR\":4591.621569,\"KMF\":491.947764,\"KPW\":1016.828338,\"KRW\":1331.426221,\"KWD\":0.341717,\"KYD\":0.938434,\"KZT\":490.974162,\"LAK\":12393.896749,\"LBP\":1702.87801,\"LKR\":228.034597,\"LRD\":160.207003,\"LSL\":18.000658,\"LTL\":3.336034,\"LVL\":0.683411,\"LYD\":5.174837,\"MAD\":10.432962,\"MDL\":19.97137,\"MGA\":4478.475698,\"MKD\":61.577223,\"MMK\":2004.430689,\"MNT\":3229.231906,\"MOP\":9.046851,\"MRO\":403.341782,\"MUR\":49.316181,\"MVR\":17.454843,\"MWK\":914.077615,\"MXN\":23.594262,\"MYR\":4.7543,\"MZN\":72.146244,\"NAD\":18.042992,\"NGN\":462.814762,\"NIO\":39.671752,\"NOK\":10.111219,\"NPR\":136.508336,\"NZD\":1.66316,\"OMR\":0.435213,\"PAB\":1.129809,\"PEN\":4.594412,\"PGK\":4.00457,\"PHP\":56.894942,\"PKR\":200.105541,\"PLN\":4.620312,\"PYG\":7701.821376,\"QAR\":4.099932,\"RON\":4.947328,\"RSD\":117.392848,\"RUB\":82.853896,\"RWF\":1166.846752,\"SAR\":4.238479,\"SBD\":9.151998,\"SCR\":14.444638,\"SDG\":495.422976,\"SEK\":10.245909,\"SGD\":1.543228,\"SHP\":0.852733,\"SLL\":12632.399738,\"SOS\":651.258952,\"SRD\":24.356461,\"STD\":23384.774697,\"SVC\":9.854065,\"SYP\":2838.649798,\"SZL\":18.002796,\"THB\":37.80729,\"TJS\":12.713023,\"TMT\":3.965631,\"TND\":3.244778,\"TOP\":2.581102,\"TRY\":15.662254,\"TTD\":7.65309,\"TWD\":31.333229,\"TZS\":2596.812795,\"UAH\":30.410014,\"UGX\":4006.494086,\"USD\":1.129809,\"UYU\":49.953967,\"UZS\":12170.197718,\"VEF\":241587407525.74307,\"VND\":25951.738407,\"VUV\":127.327611,\"WST\":2.923327,\"XAF\":656.107502,\"XAG\":0.050772,\"XAU\":0.000633,\"XCD\":3.053367,\"XDR\":0.804535,\"XOF\":656.107502,\"XPF\":119.359121,\"YER\":282.734815,\"ZAR\":18.029635,\"ZMK\":10169.643878,\"ZMW\":18.101997,\"ZWL\":363.798184}}\n",
      "<class 'str'>\n"
     ]
    }
   ],
   "source": [
    "# Write your code here\n",
    "url = \"http://api.exchangeratesapi.io/v1/latest?base=EUR&access_key=a4965967ceda2f5e99b66e36e6fd6928\"  #Make sure to change ******* to your API key.\n",
    "data = requests.get(url).text\n",
    "print(data)\n",
    "print(type(data))\n",
    "\n",
    "#df = pd.DataFrame(str(data))\n",
    "#print(df)"
   ]
  },
  {
   "cell_type": "markdown",
   "metadata": {},
   "source": [
    "### Save as DataFrame\n",
    "\n",
    "<b> Question 2</b>  Using the data gathered turn it into a `pandas` dataframe. The dataframe should have the Currency as the index and `Rate` as their columns. Make sure to drop unnecessary columns.\n"
   ]
  },
  {
   "cell_type": "code",
   "execution_count": 27,
   "metadata": {},
   "outputs": [
    {
     "name": "stdout",
     "output_type": "stream",
     "text": [
      "    Currency          Rate\n",
      "0        AED      4.149906\n",
      "1        AFN    116.659214\n",
      "2        ALL    120.966065\n",
      "3        AMD    557.956752\n",
      "4        ANG      2.029011\n",
      "..       ...           ...\n",
      "163      YER    282.734815\n",
      "164      ZAR     18.029635\n",
      "165      ZMK  10169.643878\n",
      "166      ZMW     18.101997\n",
      "167      ZWL    363.798184\n",
      "\n",
      "[168 rows x 2 columns]\n",
      "                  Rate\n",
      "Currency              \n",
      "AED           4.149906\n",
      "AFN         116.659214\n",
      "ALL         120.966065\n",
      "AMD         557.956752\n",
      "ANG           2.029011\n",
      "...                ...\n",
      "YER         282.734815\n",
      "ZAR          18.029635\n",
      "ZMK       10169.643878\n",
      "ZMW          18.101997\n",
      "ZWL         363.798184\n",
      "\n",
      "[168 rows x 1 columns]\n"
     ]
    }
   ],
   "source": [
    "# Turn the data into a dataframe\n",
    "df = pd.DataFrame(columns=['Currency', 'Rate'])\n",
    "jsondata = json.loads(data)\n",
    "\n",
    "#print(jsondata['rates'])\n",
    "#print(jsondata['rates']['AED'])\n",
    "for key in jsondata['rates']:\n",
    "    #print(key)\n",
    "    df.loc[len(df)] = [key, jsondata['rates'][key]]\n",
    "print(df)\n",
    "df = df.set_index('Currency')\n",
    "print(df)\n",
    "#for rate in enumerate(jsondata['rates']):\n",
    "#    print(rate)"
   ]
  },
  {
   "cell_type": "code",
   "execution_count": null,
   "metadata": {},
   "outputs": [],
   "source": [
    "# Drop unnescessary columns\n"
   ]
  },
  {
   "cell_type": "markdown",
   "metadata": {},
   "source": [
    "### Load the Data\n",
    "\n",
    "Using the dataframe save it as a CSV names `exchange_rates_1.csv`.\n"
   ]
  },
  {
   "cell_type": "code",
   "execution_count": 28,
   "metadata": {},
   "outputs": [
    {
     "data": {
      "text/plain": [
       "'Currency,Rate\\nAED,4.149906\\nAFN,116.659214\\nALL,120.966065\\nAMD,557.956752\\nANG,2.029011\\nAOA,642.046983\\nARS,114.402472\\nAUD,1.575306\\nAWG,2.033657\\nAZN,1.917479\\nBAM,1.954549\\nBBD,2.27373\\nBDT,96.57232\\nBGN,1.953412\\nBHD,0.424447\\nBIF,2244.388157\\nBMD,1.129809\\nBND,1.53816\\nBOB,7.775338\\nBRL,6.34051\\nBSD,1.126122\\nBTC,2.307082e-05\\nBTN,85.333345\\nBWP,13.255898\\nBYN,2.852982\\nBYR,22144.26537\\nBZD,2.269833\\nCAD,1.436609\\nCDF,2260.184661\\nCHF,1.041459\\nCLF,0.03476\\nCLP,959.141062\\nCNY,7.188301\\nCOP,4394.936194\\nCRC,718.801613\\nCUC,1.129809\\nCUP,29.939951\\nCVE,110.192286\\nCZK,25.347615\\nDJF,200.469247\\nDKK,7.43601\\nDOP,63.958756\\nDZD,157.126196\\nEGP,17.700965\\nERN,16.947317\\nETB,54.812869\\nEUR,1.0\\nFJD,2.406437\\nFKP,0.852733\\nGBP,0.852622\\nGEL,3.493427\\nGGP,0.852733\\nGHS,6.863232\\nGIP,0.852733\\nGMD,59.258281\\nGNF,10698.554216\\nGTQ,8.704333\\nGYD,235.586711\\nHKD,8.80991\\nHNL,27.324253\\nHRK,7.519541\\nHTG,113.513119\\nHUF,365.651636\\nIDR,16210.605262\\nILS,3.503556\\nIMP,0.852733\\nINR,85.547528\\nIQD,1645.225213\\nIRR,47762.69526\\nISK,147.621354\\nJEP,0.852733\\nJMD,173.99816\\nJOD,0.801038\\nJPY,128.299465\\nKES,127.137935\\nKGS,95.796885\\nKHR,4591.621569\\nKMF,491.947764\\nKPW,1016.828338\\nKRW,1331.426221\\nKWD,0.341717\\nKYD,0.938434\\nKZT,490.974162\\nLAK,12393.896749\\nLBP,1702.87801\\nLKR,228.034597\\nLRD,160.207003\\nLSL,18.000658\\nLTL,3.336034\\nLVL,0.683411\\nLYD,5.174837\\nMAD,10.432962\\nMDL,19.97137\\nMGA,4478.475698\\nMKD,61.577223\\nMMK,2004.430689\\nMNT,3229.231906\\nMOP,9.046851\\nMRO,403.341782\\nMUR,49.316181\\nMVR,17.454843\\nMWK,914.077615\\nMXN,23.594262\\nMYR,4.7543\\nMZN,72.146244\\nNAD,18.042992\\nNGN,462.814762\\nNIO,39.671752\\nNOK,10.111219\\nNPR,136.508336\\nNZD,1.66316\\nOMR,0.435213\\nPAB,1.129809\\nPEN,4.594412\\nPGK,4.00457\\nPHP,56.894942\\nPKR,200.105541\\nPLN,4.620312\\nPYG,7701.821376\\nQAR,4.099932\\nRON,4.947328\\nRSD,117.392848\\nRUB,82.853896\\nRWF,1166.846752\\nSAR,4.238479\\nSBD,9.151998\\nSCR,14.444638\\nSDG,495.422976\\nSEK,10.245909\\nSGD,1.543228\\nSHP,0.852733\\nSLL,12632.399738\\nSOS,651.258952\\nSRD,24.356461\\nSTD,23384.774697\\nSVC,9.854065\\nSYP,2838.649798\\nSZL,18.002796\\nTHB,37.80729\\nTJS,12.713023\\nTMT,3.965631\\nTND,3.244778\\nTOP,2.581102\\nTRY,15.662254\\nTTD,7.65309\\nTWD,31.333229\\nTZS,2596.812795\\nUAH,30.410014\\nUGX,4006.494086\\nUSD,1.129809\\nUYU,49.953967\\nUZS,12170.197718\\nVEF,241587407525.74307\\nVND,25951.738407\\nVUV,127.327611\\nWST,2.923327\\nXAF,656.107502\\nXAG,0.050772\\nXAU,0.000633\\nXCD,3.053367\\nXDR,0.804535\\nXOF,656.107502\\nXPF,119.359121\\nYER,282.734815\\nZAR,18.029635\\nZMK,10169.643878\\nZMW,18.101997\\nZWL,363.798184\\n'"
      ]
     },
     "execution_count": 28,
     "metadata": {},
     "output_type": "execute_result"
    }
   ],
   "source": [
    "# Save the Dataframe\n",
    "df.to_csv()\n"
   ]
  },
  {
   "cell_type": "markdown",
   "metadata": {},
   "source": [
    "Your CSV should be in this format with more currencies\n",
    "\n",
    "|     | Rates      |\n",
    "| --- | ---------- |\n",
    "| AED | 4.398618   |\n",
    "| AFN | 92.917693  |\n",
    "| ALL | 123.099093 |\n",
    "| AMD | 621.935674 |\n",
    "| ANG | 2.149648   |\n"
   ]
  },
  {
   "cell_type": "markdown",
   "metadata": {},
   "source": [
    "## Authors\n"
   ]
  },
  {
   "cell_type": "markdown",
   "metadata": {},
   "source": [
    "Ramesh Sannareddy, Joseph Santarcangelo and Azim Hirjani\n"
   ]
  },
  {
   "cell_type": "markdown",
   "metadata": {},
   "source": [
    "### Other Contributors\n"
   ]
  },
  {
   "cell_type": "markdown",
   "metadata": {},
   "source": [
    "Rav Ahuja\n"
   ]
  },
  {
   "cell_type": "markdown",
   "metadata": {},
   "source": [
    "## Change Log\n"
   ]
  },
  {
   "cell_type": "markdown",
   "metadata": {},
   "source": [
    "| Date (YYYY-MM-DD) | Version | Changed By        | Change Description                 |\n",
    "| ----------------- | ------- | ----------------- | ---------------------------------- |\n",
    "| 2021-04-15        | 0.2     | Malika            | Updated the lab from USD to EUR    |\n",
    "| 2020-11-25        | 0.1     | Ramesh Sannareddy | Created initial version of the lab |\n"
   ]
  },
  {
   "cell_type": "markdown",
   "metadata": {},
   "source": [
    "Copyright © 2020 IBM Corporation. This notebook and its source code are released under the terms of the [MIT License](https://cognitiveclass.ai/mit-license?utm_medium=Exinfluencer&utm_source=Exinfluencer&utm_content=000026UJ&utm_term=10006555&utm_id=NA-SkillsNetwork-Channel-SkillsNetworkCoursesIBMDeveloperSkillsNetworkPY0221ENSkillsNetwork23455645-2021-01-01&cm_mmc=Email_Newsletter-\\_-Developer_Ed%2BTech-\\_-WW_WW-\\_-SkillsNetwork-Courses-IBM-DA0321EN-SkillsNetwork-21426264&cm_mmca1=000026UJ&cm_mmca2=10006555&cm_mmca3=M12345678&cvosrc=email.Newsletter.M12345678&cvo_campaign=000026UJ).\n"
   ]
  }
 ],
 "metadata": {
  "kernelspec": {
   "display_name": "Python",
   "language": "python",
   "name": "conda-env-python-py"
  },
  "language_info": {
   "codemirror_mode": {
    "name": "ipython",
    "version": 3
   },
   "file_extension": ".py",
   "mimetype": "text/x-python",
   "name": "python",
   "nbconvert_exporter": "python",
   "pygments_lexer": "ipython3",
   "version": "3.7.12"
  }
 },
 "nbformat": 4,
 "nbformat_minor": 4
}
